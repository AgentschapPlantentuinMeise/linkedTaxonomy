{
 "cells": [
  {
   "cell_type": "markdown",
   "metadata": {
    "colab_type": "text",
    "id": "sTQX9UT37-JK"
   },
   "source": [
    "# Type specimens through GBIF\n",
    "\n",
    "## Input Scientific Name"
   ]
  },
  {
   "cell_type": "code",
   "execution_count": 0,
   "metadata": {
    "cellView": "both",
    "colab": {},
    "colab_type": "code",
    "id": "M4SzDNwTCMR_"
   },
   "outputs": [],
   "source": [
    "jso#@title String fields\n",
    "\n",
    "scientificName = 'Solanum dillonii' #@param {type:\"string\"}"
   ]
  },
  {
   "cell_type": "markdown",
   "metadata": {
    "colab_type": "text",
    "id": "-TvgbfkB2LJm"
   },
   "source": [
    "## Initialisation\n",
    "\n",
    "### Importing Libraries"
   ]
  },
  {
   "cell_type": "code",
   "execution_count": 0,
   "metadata": {
    "colab": {},
    "colab_type": "code",
    "id": "3qsD568A7zBO"
   },
   "outputs": [],
   "source": [
    "!pip install -q SPARQLWrapper\n",
    "\n",
    "import requests\n",
    "import json\n",
    "import pandas as pd\n",
    "from rdflib import *\n",
    "from urllib.error import HTTPError\n",
    "\n",
    "from google.colab import data_table\n",
    "from IPython.display import display, Markdown, Latex, Image\n",
    "\n",
    "import xml.etree.ElementTree as ET\n",
    "\n",
    "from SPARQLWrapper import SPARQLWrapper, JSON\n",
    "\n",
    "import warnings\n",
    "warnings.filterwarnings('ignore') #suppress some warnings coming from RDFLib"
   ]
  },
  {
   "cell_type": "markdown",
   "metadata": {
    "colab_type": "text",
    "id": "mz1oO3Os8RMl"
   },
   "source": [
    "### Defining the APIs"
   ]
  },
  {
   "cell_type": "code",
   "execution_count": 0,
   "metadata": {
    "colab": {},
    "colab_type": "code",
    "id": "SOCUPnyk8Uwq"
   },
   "outputs": [],
   "source": [
    "gbif_base_url = 'https://api.gbif.org/v1/'\n",
    "\n",
    "gbif_occurence = gbif_base_url + 'occurrence/search'\n",
    "gbif_species = gbif_base_url + 'species/match' # to retrieve the taxonKey\n",
    "\n",
    "plazi_base_url = 'http://tb.plazi.org/GgServer/rdf/'\n"
   ]
  },
  {
   "cell_type": "markdown",
   "metadata": {
    "colab_type": "text",
    "id": "dGh3TKyjHY83"
   },
   "source": [
    "### Define functions"
   ]
  },
  {
   "cell_type": "code",
   "execution_count": 0,
   "metadata": {
    "colab": {},
    "colab_type": "code",
    "id": "QK5oza4BHYQO"
   },
   "outputs": [],
   "source": [
    "def get_collection(code):\n",
    "  url = 'http://sweetgum.nybg.org/science/api/v1/institutions/' + code\n",
    "  collection = requests.get(url)\n",
    "\n",
    "  if collection.status_code == 200:\n",
    "    collections = json.loads(collection.text)\n",
    "    collections = {'code' : collections['code'], 'name' : collections['organization'], 'website' : collections['contact']['webUrl']}\n",
    "    df = pd.DataFrame(collections, index=[0])\n",
    "    return df\n",
    "  else:\n",
    "    return None"
   ]
  },
  {
   "cell_type": "markdown",
   "metadata": {
    "colab_type": "text",
    "id": "GjtlwPsYR_-5"
   },
   "source": [
    "## Search for specimen with taxonomic issues"
   ]
  },
  {
   "cell_type": "code",
   "execution_count": 0,
   "metadata": {
    "colab": {},
    "colab_type": "code",
    "id": "0SV0cEhrSIGl"
   },
   "outputs": [],
   "source": [
    "params = {'issues': 'TAXONOMIC_RULES'}\n",
    "\n",
    "types_found = {'Holotype' : False, 'Neotype' : False, 'Lectotype' : False, 'Isotype' : False, 'Syntype' : False, 'Paratype' : False}"
   ]
  },
  {
   "cell_type": "markdown",
   "metadata": {
    "colab_type": "text",
    "id": "yRh7-HZwCsoN"
   },
   "source": [
    "### Get the taxonKey"
   ]
  },
  {
   "cell_type": "code",
   "execution_count": 0,
   "metadata": {
    "colab": {},
    "colab_type": "code",
    "id": "89BFdDbcCxTx"
   },
   "outputs": [],
   "source": [
    "taxon_search_string = scientificName.replace(' ','%20')\n",
    "\n",
    "taxonKey_search = {'name' : scientificName, 'strict' : True, 'verbose' : True}\n",
    "\n",
    "request = requests.get(gbif_species, params=taxonKey_search)\n",
    "if request.status_code == 200:\n",
    "  req_json = json.loads(request.text)\n",
    "  if req_json['matchType'] == 'NONE':\n",
    "    print('Species not found, try another one')\n",
    "    assert(False)\n",
    "\n",
    "  taxonKey = req_json['usageKey']\n",
    "  speciesKey = req_json['speciesKey']\n",
    "  genusKey = req_json['genusKey']\n",
    "  genus = req_json['genus']\n",
    "  species = req_json['species'].split(' ')[1]\n",
    "else:\n",
    "  print('Something went wrong, try different Scientific Name')\n",
    "  assert(False)"
   ]
  },
  {
   "cell_type": "markdown",
   "metadata": {
    "colab_type": "text",
    "id": "CUuzko7u-hWx"
   },
   "source": [
    "### Get all the collection codes from Index Herbariorum"
   ]
  },
  {
   "cell_type": "code",
   "execution_count": 0,
   "metadata": {
    "colab": {},
    "colab_type": "code",
    "id": "6brgEViF-nz-"
   },
   "outputs": [],
   "source": [
    "IH_codes = []\n",
    "herbaria = requests.get('http://sweetgum.nybg.org/science/api/v1/institutions')\n",
    "if herbaria.status_code == 200:\n",
    "  jHerb = herbaria.json()\n",
    "  for element in jHerb['data']:\n",
    "    IH_codes.append(element['code'])\n",
    "else:\n",
    "  print('Error reading IH API')\n"
   ]
  },
  {
   "cell_type": "markdown",
   "metadata": {
    "colab_type": "text",
    "id": "xXUrdm6DjGYI"
   },
   "source": [
    "### Get the types from the taxonomic treatment (PLAZI)\n",
    "use the API of PLAZI to check if there is a taxonomic treatment available\n",
    "\n",
    "#### Look for treatments"
   ]
  },
  {
   "cell_type": "code",
   "execution_count": 0,
   "metadata": {
    "colab": {
     "base_uri": "https://localhost:8080/",
     "height": 35
    },
    "colab_type": "code",
    "executionInfo": {
     "elapsed": 7023,
     "status": "ok",
     "timestamp": 1591715021033,
     "user": {
      "displayName": "Maarten Trekels",
      "photoUrl": "https://lh3.googleusercontent.com/a-/AOh14Gg1lAOBAHfckOiCDYDPymyViRps7Tf4dAtzyvtEMw=s64",
      "userId": "15182443477784263859"
     },
     "user_tz": -120
    },
    "id": "fo5otPzejLfQ",
    "outputId": "217591c8-f645-4c6c-9d45-55e6f3aab1c0"
   },
   "outputs": [
    {
     "name": "stdout",
     "output_type": "stream",
     "text": [
      "['http://treatment.plazi.org/id/D01D1214B639B31834BFBDF964EDC34B']\n"
     ]
    }
   ],
   "source": [
    "plazi_sparql = 'https://treatment.ld.plazi.org/sparql'\n",
    "\n",
    "p_query = \"\"\"\n",
    "PREFIX rdf: <http://www.w3.org/1999/02/22-rdf-syntax-ns#>\n",
    "PREFIX dwc: <http://rs.tdwg.org/dwc/terms/>\n",
    "PREFIX treat: <http://plazi.org/vocab/treatment#>\n",
    "PREFIX dc: <http://purl.org/dc/elements/1.1/>\n",
    "SELECT * WHERE {{ \n",
    "  ?tc dwc:genus \"{0}\" .\n",
    "  ?tc dwc:species \"{1}\" .\n",
    "  ?tc a <http://filteredpush.org/ontologies/oa/dwcFP#TaxonConcept> . \n",
    "  OPTIONAL {{ ?tc treat:hasTaxonName ?tn . }}\n",
    "  OPTIONAL {{ ?augmentingTreatment treat:augmentsTaxonConcept ?tc . \n",
    "  ?augmentingTreatment dc:creator ?augmentingTreatmentCreator .}}\n",
    "  OPTIONAL {{ ?definingTreatment treat:definesTaxonConcept ?tc . \n",
    "  ?definingTreatment dc:creator ?definingTreatmentCreator .}}\n",
    "  }}\n",
    "\"\"\".format(genus,species)\n",
    "\n",
    "treatments = []\n",
    "\n",
    "sparql = SPARQLWrapper(plazi_sparql)\n",
    "sparql.setQuery(p_query)\n",
    "sparql.setReturnFormat(JSON)\n",
    "\n",
    "results = sparql.query().convert()\n",
    "\n",
    "\n",
    "for result in results[\"results\"][\"bindings\"]:\n",
    "  try:\n",
    "    treatments.append(result['definingTreatment']['value'])\n",
    "  except KeyError:\n",
    "    pass\n",
    "  try:\n",
    "    treatments.append(result['augmentingTreatment']['value'])\n",
    "  except KeyError:\n",
    "    pass\n",
    "\n",
    "\n",
    "treatments = list(set(treatments))\n",
    "print(treatments)\n",
    "\n"
   ]
  },
  {
   "cell_type": "markdown",
   "metadata": {
    "colab_type": "text",
    "id": "7ZN7Qg7icUgJ"
   },
   "source": [
    "#### Try to extract the types from the treatments and print publication"
   ]
  },
  {
   "cell_type": "code",
   "execution_count": 0,
   "metadata": {
    "colab": {
     "base_uri": "https://localhost:8080/",
     "height": 476
    },
    "colab_type": "code",
    "executionInfo": {
     "elapsed": 8265,
     "status": "ok",
     "timestamp": 1591715022283,
     "user": {
      "displayName": "Maarten Trekels",
      "photoUrl": "https://lh3.googleusercontent.com/a-/AOh14Gg1lAOBAHfckOiCDYDPymyViRps7Tf4dAtzyvtEMw=s64",
      "userId": "15182443477784263859"
     },
     "user_tz": -120
    },
    "id": "UGS2MmV-eC5B",
    "outputId": "1b00c955-4719-4836-8103-812a329a0069"
   },
   "outputs": [
    {
     "name": "stdout",
     "output_type": "stream",
     "text": [
      "=================\n",
      "Type information:\n",
      "-----------------\n",
      " Type.  Peru:Cajamarca: Prov. Celendin, on road from Celendin to Balsas, east of pass on descent to Balsas, 2002 m, 6°52.13S, 78°30.91W, 12 December 2007, S. Stern, E. Tepe, S. Leiva & M. Zapata 119 (holotype: USM!; isotypes: BM! [BM001016881], HAO†, NY! [NY 00986687], UT!).\n"
     ]
    },
    {
     "data": {
      "application/vnd.google.colaboratory.module+javascript": "\n      import \"https://ssl.gstatic.com/colaboratory/data_table/a6224c040fa35dcf/data_table.js\";\n\n      window.createDataTable({\n        data: [[\"USM\",\n\"Universidad Nacional Mayor de San Marcos\",\n\"\"]],\n        columns: [[\"string\", \"code\"], [\"string\", \"name\"], [\"string\", \"website\"]],\n        columnOptions: [],\n        rowsPerPage: 20,\n        helpUrl: \"https://colab.research.google.com/notebooks/data_table.ipynb\",\n        suppressOutputScrolling: true,\n        minimumWidth: undefined,\n      });\n    ",
      "text/html": [
       "<div>\n",
       "<style scoped>\n",
       "    .dataframe tbody tr th:only-of-type {\n",
       "        vertical-align: middle;\n",
       "    }\n",
       "\n",
       "    .dataframe tbody tr th {\n",
       "        vertical-align: top;\n",
       "    }\n",
       "\n",
       "    .dataframe thead th {\n",
       "        text-align: right;\n",
       "    }\n",
       "</style>\n",
       "<table border=\"1\" class=\"dataframe\">\n",
       "  <thead>\n",
       "    <tr style=\"text-align: right;\">\n",
       "      <th></th>\n",
       "      <th>code</th>\n",
       "      <th>name</th>\n",
       "      <th>website</th>\n",
       "    </tr>\n",
       "  </thead>\n",
       "  <tbody>\n",
       "    <tr>\n",
       "      <th>0</th>\n",
       "      <td>USM</td>\n",
       "      <td>Universidad Nacional Mayor de San Marcos</td>\n",
       "      <td></td>\n",
       "    </tr>\n",
       "  </tbody>\n",
       "</table>\n",
       "</div>"
      ],
      "text/plain": [
       "<google.colab.data_table.DataTable object>"
      ]
     },
     "metadata": {
      "tags": []
     },
     "output_type": "display_data"
    },
    {
     "data": {
      "application/vnd.google.colaboratory.module+javascript": "\n      import \"https://ssl.gstatic.com/colaboratory/data_table/a6224c040fa35dcf/data_table.js\";\n\n      window.createDataTable({\n        data: [[\"BM\",\n\"The Natural History Museum\",\n\"http://www.nhm.ac.uk/\"]],\n        columns: [[\"string\", \"code\"], [\"string\", \"name\"], [\"string\", \"website\"]],\n        columnOptions: [],\n        rowsPerPage: 20,\n        helpUrl: \"https://colab.research.google.com/notebooks/data_table.ipynb\",\n        suppressOutputScrolling: true,\n        minimumWidth: undefined,\n      });\n    ",
      "text/html": [
       "<div>\n",
       "<style scoped>\n",
       "    .dataframe tbody tr th:only-of-type {\n",
       "        vertical-align: middle;\n",
       "    }\n",
       "\n",
       "    .dataframe tbody tr th {\n",
       "        vertical-align: top;\n",
       "    }\n",
       "\n",
       "    .dataframe thead th {\n",
       "        text-align: right;\n",
       "    }\n",
       "</style>\n",
       "<table border=\"1\" class=\"dataframe\">\n",
       "  <thead>\n",
       "    <tr style=\"text-align: right;\">\n",
       "      <th></th>\n",
       "      <th>code</th>\n",
       "      <th>name</th>\n",
       "      <th>website</th>\n",
       "    </tr>\n",
       "  </thead>\n",
       "  <tbody>\n",
       "    <tr>\n",
       "      <th>0</th>\n",
       "      <td>BM</td>\n",
       "      <td>The Natural History Museum</td>\n",
       "      <td>http://www.nhm.ac.uk/</td>\n",
       "    </tr>\n",
       "  </tbody>\n",
       "</table>\n",
       "</div>"
      ],
      "text/plain": [
       "<google.colab.data_table.DataTable object>"
      ]
     },
     "metadata": {
      "tags": []
     },
     "output_type": "display_data"
    },
    {
     "data": {
      "application/vnd.google.colaboratory.module+javascript": "\n      import \"https://ssl.gstatic.com/colaboratory/data_table/a6224c040fa35dcf/data_table.js\";\n\n      window.createDataTable({\n        data: [[\"NY\",\n\"The New York Botanical Garden\",\n\"http://www.nybg.org\"]],\n        columns: [[\"string\", \"code\"], [\"string\", \"name\"], [\"string\", \"website\"]],\n        columnOptions: [],\n        rowsPerPage: 20,\n        helpUrl: \"https://colab.research.google.com/notebooks/data_table.ipynb\",\n        suppressOutputScrolling: true,\n        minimumWidth: undefined,\n      });\n    ",
      "text/html": [
       "<div>\n",
       "<style scoped>\n",
       "    .dataframe tbody tr th:only-of-type {\n",
       "        vertical-align: middle;\n",
       "    }\n",
       "\n",
       "    .dataframe tbody tr th {\n",
       "        vertical-align: top;\n",
       "    }\n",
       "\n",
       "    .dataframe thead th {\n",
       "        text-align: right;\n",
       "    }\n",
       "</style>\n",
       "<table border=\"1\" class=\"dataframe\">\n",
       "  <thead>\n",
       "    <tr style=\"text-align: right;\">\n",
       "      <th></th>\n",
       "      <th>code</th>\n",
       "      <th>name</th>\n",
       "      <th>website</th>\n",
       "    </tr>\n",
       "  </thead>\n",
       "  <tbody>\n",
       "    <tr>\n",
       "      <th>0</th>\n",
       "      <td>NY</td>\n",
       "      <td>The New York Botanical Garden</td>\n",
       "      <td>http://www.nybg.org</td>\n",
       "    </tr>\n",
       "  </tbody>\n",
       "</table>\n",
       "</div>"
      ],
      "text/plain": [
       "<google.colab.data_table.DataTable object>"
      ]
     },
     "metadata": {
      "tags": []
     },
     "output_type": "display_data"
    },
    {
     "data": {
      "application/vnd.google.colaboratory.module+javascript": "\n      import \"https://ssl.gstatic.com/colaboratory/data_table/a6224c040fa35dcf/data_table.js\";\n\n      window.createDataTable({\n        data: [[\"UT\",\n\"University of Utah\",\n\"https://nhmu.utah.edu/botany\"]],\n        columns: [[\"string\", \"code\"], [\"string\", \"name\"], [\"string\", \"website\"]],\n        columnOptions: [],\n        rowsPerPage: 20,\n        helpUrl: \"https://colab.research.google.com/notebooks/data_table.ipynb\",\n        suppressOutputScrolling: true,\n        minimumWidth: undefined,\n      });\n    ",
      "text/html": [
       "<div>\n",
       "<style scoped>\n",
       "    .dataframe tbody tr th:only-of-type {\n",
       "        vertical-align: middle;\n",
       "    }\n",
       "\n",
       "    .dataframe tbody tr th {\n",
       "        vertical-align: top;\n",
       "    }\n",
       "\n",
       "    .dataframe thead th {\n",
       "        text-align: right;\n",
       "    }\n",
       "</style>\n",
       "<table border=\"1\" class=\"dataframe\">\n",
       "  <thead>\n",
       "    <tr style=\"text-align: right;\">\n",
       "      <th></th>\n",
       "      <th>code</th>\n",
       "      <th>name</th>\n",
       "      <th>website</th>\n",
       "    </tr>\n",
       "  </thead>\n",
       "  <tbody>\n",
       "    <tr>\n",
       "      <th>0</th>\n",
       "      <td>UT</td>\n",
       "      <td>University of Utah</td>\n",
       "      <td>https://nhmu.utah.edu/botany</td>\n",
       "    </tr>\n",
       "  </tbody>\n",
       "</table>\n",
       "</div>"
      ],
      "text/plain": [
       "<google.colab.data_table.DataTable object>"
      ]
     },
     "metadata": {
      "tags": []
     },
     "output_type": "display_data"
    }
   ],
   "source": [
    "figures = []\n",
    "\n",
    "for treatment in treatments:\n",
    "  url = plazi_base_url + treatment.replace('http://treatment.plazi.org/id/','')\n",
    "  g = Graph()\n",
    "  try:\n",
    "    g.parse(url, format='xml')\n",
    "\n",
    "  # Print the publication\n",
    "    publication_query = g.query(\n",
    "      \"\"\" SELECT * WHERE {{\n",
    "        <{0}> trt:publishedIn ?b.\n",
    "        OPTIONAL{{ ?b dc:title ?title.}}\n",
    "        OPTIONAL{{ ?b dc:creator ?creator.}}\n",
    "        OPTIONAL{{ ?b bibo:journal ?journal.}}\n",
    "        OPTIONAL{{ ?b dc:date ?date.}}\n",
    "        OPTIONAL{{ ?b bibo:volume ?volume.}}\n",
    "        }}\"\"\".format(treatment))\n",
    "    pub_print = False\n",
    "    if pub_print:\n",
    "      for item in publication_query:\n",
    "        print(\"Publication:\")\n",
    "        print('------------')\n",
    "        print('published in: ' + item.b)\n",
    "        print('author: ' + item.creator)\n",
    "        #print('title: ' + item.title)\n",
    "        #print('journal: ' + item.journal)\n",
    "        #print('date: ' + item.date)\n",
    "        #print('volume: ' + item.volume)  \n",
    "\n",
    "    # Get the figures\n",
    "    qfig = g.query(\n",
    "      \"\"\" SELECT * WHERE {{\n",
    "        <{0}> fabio:hasPart ?b.\n",
    "        ?b rdf:type <http://purl.org/spar/fabio/Figure>.\n",
    "        }}\"\"\".format(treatment))\n",
    "    for fig in qfig:\n",
    "      figures.append(fig[0]) \n",
    "\n",
    "    # Get the sections within the treatment\n",
    "    qres = g.query(\n",
    "      \"\"\" SELECT DISTINCT * WHERE {{\n",
    "        <{0}> spm:hasInformation ?b.\n",
    "        }}\"\"\".format(treatment))\n",
    "  \n",
    "    # For each section in the treatment, check if there is Type information\n",
    "    for r in qres:\n",
    "      q2res = g.query(\n",
    "      \"\"\" SELECT DISTINCT * WHERE {{\n",
    "       <{0}> spm:hasContent ?b.\n",
    "       }}\"\"\".format(r[0]))\n",
    "      for r2 in q2res:\n",
    "        if str(r2).find('Type') != -1:\n",
    "          print('=================')\n",
    "          print('Type information:')\n",
    "          print('-----------------')\n",
    "          print(str(r2[0]))\n",
    "          type_string = str(r2[0])\n",
    "          type_string = type_string.split(\" \")\n",
    "          do_print = False\n",
    "          for substring in type_string:\n",
    "            substring = substring.replace(',', '').replace('!', '').replace(')','').replace(';','').replace('.','')\n",
    "            if 'holotype' in substring:\n",
    "              do_print = True\n",
    "            if substring in IH_codes and do_print:\n",
    "              collection = get_collection(substring)\n",
    "              display(data_table.DataTable(collection, include_index=False, num_rows_per_page=20))\n",
    "  except HTTPError:\n",
    "    print('treatment gave an HTTP error')\n",
    "    pass  "
   ]
  },
  {
   "cell_type": "markdown",
   "metadata": {
    "colab_type": "text",
    "id": "UcyndunUvyEB"
   },
   "source": [
    "#### Pictures inside the treatments"
   ]
  },
  {
   "cell_type": "code",
   "execution_count": 0,
   "metadata": {
    "colab": {
     "base_uri": "https://localhost:8080/",
     "height": 1000
    },
    "colab_type": "code",
    "executionInfo": {
     "elapsed": 8258,
     "status": "ok",
     "timestamp": 1591715022284,
     "user": {
      "displayName": "Maarten Trekels",
      "photoUrl": "https://lh3.googleusercontent.com/a-/AOh14Gg1lAOBAHfckOiCDYDPymyViRps7Tf4dAtzyvtEMw=s64",
      "userId": "15182443477784263859"
     },
     "user_tz": -120
    },
    "id": "3-IswqtUv3f4",
    "outputId": "d08c2f3d-eda2-4b90-bc81-7887597344d7"
   },
   "outputs": [
    {
     "data": {
      "text/html": [
       "<img src=\"https://binary.pensoft.net/fig/9843\" width=\"500\"/>"
      ],
      "text/plain": [
       "<IPython.core.display.Image object>"
      ]
     },
     "metadata": {
      "tags": []
     },
     "output_type": "display_data"
    },
    {
     "data": {
      "text/html": [
       "<img src=\"https://binary.pensoft.net/fig/9844\" width=\"500\"/>"
      ],
      "text/plain": [
       "<IPython.core.display.Image object>"
      ]
     },
     "metadata": {
      "tags": []
     },
     "output_type": "display_data"
    }
   ],
   "source": [
    "for figure in figures:\n",
    "  display(Image(url=figure, width=500))"
   ]
  },
  {
   "cell_type": "markdown",
   "metadata": {
    "colab_type": "text",
    "id": "GQfVGlCZERJu"
   },
   "source": [
    "### Based on the taxonKey, look for type specimens"
   ]
  },
  {
   "cell_type": "code",
   "execution_count": 0,
   "metadata": {
    "colab": {},
    "colab_type": "code",
    "id": "Zzq7lu1xCqVc"
   },
   "outputs": [],
   "source": [
    "# select the interesting colums\n",
    "columns = ['scientificName', 'acceptedScientificName', 'recordedBy', 'eventDate', 'collectionCode', 'institutionCode', 'rightsHolder', 'countryCode', 'recordNumber']"
   ]
  },
  {
   "cell_type": "code",
   "execution_count": 0,
   "metadata": {
    "colab": {
     "base_uri": "https://localhost:8080/",
     "height": 35
    },
    "colab_type": "code",
    "executionInfo": {
     "elapsed": 8248,
     "status": "ok",
     "timestamp": 1591715022287,
     "user": {
      "displayName": "Maarten Trekels",
      "photoUrl": "https://lh3.googleusercontent.com/a-/AOh14Gg1lAOBAHfckOiCDYDPymyViRps7Tf4dAtzyvtEMw=s64",
      "userId": "15182443477784263859"
     },
     "user_tz": -120
    },
    "id": "M_iU87wFEVoG",
    "outputId": "18c8b50a-3faa-46c3-ab48-aac1beab9e3c"
   },
   "outputs": [
    {
     "name": "stdout",
     "output_type": "stream",
     "text": [
      "No HOLOTYPE found\n"
     ]
    }
   ],
   "source": [
    "holotype_search = {'taxonKey' : taxonKey, 'typeStatus' : 'Holotype', 'limit' : 20}\n",
    "\n",
    "holotype_request = requests.get(gbif_occurence, params=holotype_search)\n",
    "if holotype_request.status_code == 200:\n",
    "  holotypes = json.loads(holotype_request.text)\n",
    "  endOfRecords = holotypes['endOfRecords']\n",
    "  df = pd.DataFrame(holotypes['results'])\n",
    "  iteration = 1\n",
    "  while not endOfRecords:\n",
    "    holotype_search = {'taxonKey' : taxonKey, 'typeStatus' : 'Holotype', 'limit' : 20, 'offset' : iteration*20}\n",
    "    holotype_request = requests.get(gbif_occurence, params=holotype_search)\n",
    "    holotypes = json.loads(holotype_request.text)\n",
    "    endOfRecords = holotypes['endOfRecords']\n",
    "    dfe = pd.DataFrame(holotypes['results'])\n",
    "    df = df.append(dfe, ignore_index=True)\n",
    "    iteration += 1\n",
    "  adjusted_columns = []\n",
    "  for item in columns:\n",
    "    if item in df.columns:\n",
    "      adjusted_columns.append(item)\n",
    "  if df.size > 0:\n",
    "    df1 = df[adjusted_columns]\n",
    "    display(data_table.DataTable(df1, include_index=False, num_rows_per_page=20))\n",
    "    types_found['Holotype'] = True\n",
    "  else:\n",
    "    print('No HOLOTYPE found')\n",
    "else:\n",
    "  print('Something went wrong')\n",
    "\n",
    "if df.size > 1:\n",
    "  print('TAXONOMIC ERROR: THERE CAN BE ONLY ONE HOLOTYPE!')"
   ]
  },
  {
   "cell_type": "code",
   "execution_count": 0,
   "metadata": {
    "colab": {
     "base_uri": "https://localhost:8080/",
     "height": 35
    },
    "colab_type": "code",
    "executionInfo": {
     "elapsed": 8697,
     "status": "ok",
     "timestamp": 1591715022745,
     "user": {
      "displayName": "Maarten Trekels",
      "photoUrl": "https://lh3.googleusercontent.com/a-/AOh14Gg1lAOBAHfckOiCDYDPymyViRps7Tf4dAtzyvtEMw=s64",
      "userId": "15182443477784263859"
     },
     "user_tz": -120
    },
    "id": "feI_jNgLB3lG",
    "outputId": "c4c516e8-a27e-4475-fbfe-457d97a7f579"
   },
   "outputs": [
    {
     "name": "stdout",
     "output_type": "stream",
     "text": [
      "No NEOTYPES found\n"
     ]
    }
   ],
   "source": [
    "neotype_search = {'taxonKey' : taxonKey, 'typeStatus' : 'Neotype', 'limit' : 20}\n",
    "\n",
    "neotype_request = requests.get(gbif_occurence, params=neotype_search)\n",
    "if neotype_request.status_code == 200:\n",
    "  neotypes = json.loads(neotype_request.text)\n",
    "  endOfRecords = neotypes['endOfRecords']\n",
    "  ndf = pd.DataFrame(neotypes['results'])\n",
    "  iteration = 1\n",
    "  while not endOfRecords:\n",
    "    neotype_search = {'taxonKey' : taxonKey, 'typeStatus' : 'Neotype', 'limit' : 20, 'offset' : iteration*20}\n",
    "    neotype_request = requests.get(gbif_occurence, params=neotype_search)\n",
    "    neotypes = json.loads(neotype_request.text)\n",
    "    endOfRecords = neotypes['endOfRecords']\n",
    "    ndfe = pd.DataFrame(neotypes['results'])\n",
    "    ndf = ndf.append(ndfe, ignore_index=True)\n",
    "    iteration += 1\n",
    "  if ndf.size > 0:\n",
    "    adjusted_columns = []\n",
    "    for item in columns:\n",
    "      if item in ndf.columns:\n",
    "        adjusted_columns.append(item)\n",
    "    ndf1 = ndf[adjusted_columns]\n",
    "    display(data_table.DataTable(ndf1, include_index=False, num_rows_per_page=20))\n",
    "    types_found['Neotype'] = True\n",
    "  else:\n",
    "    print('No NEOTYPES found')\n",
    "else:\n",
    "  print('Something went wrong')"
   ]
  },
  {
   "cell_type": "code",
   "execution_count": 0,
   "metadata": {
    "colab": {
     "base_uri": "https://localhost:8080/",
     "height": 35
    },
    "colab_type": "code",
    "executionInfo": {
     "elapsed": 8689,
     "status": "ok",
     "timestamp": 1591715022745,
     "user": {
      "displayName": "Maarten Trekels",
      "photoUrl": "https://lh3.googleusercontent.com/a-/AOh14Gg1lAOBAHfckOiCDYDPymyViRps7Tf4dAtzyvtEMw=s64",
      "userId": "15182443477784263859"
     },
     "user_tz": -120
    },
    "id": "GfgjxZSGFrF8",
    "outputId": "878b299c-c883-4d88-d469-e0cd1addb5c0"
   },
   "outputs": [
    {
     "name": "stdout",
     "output_type": "stream",
     "text": [
      "No LECTOTYPES found\n"
     ]
    }
   ],
   "source": [
    "lectotype_search = {'taxonKey' : taxonKey, 'typeStatus' : 'Lectotype', 'limit' : 20}\n",
    "\n",
    "lectotype_request = requests.get(gbif_occurence, params=lectotype_search)\n",
    "if lectotype_request.status_code == 200:\n",
    "  lectotypes = json.loads(lectotype_request.text)\n",
    "  endOfRecords = lectotypes['endOfRecords']\n",
    "  ldf = pd.DataFrame(lectotypes['results'])\n",
    "  iteration = 1\n",
    "  while not endOfRecords:\n",
    "    lectotype_search = {'taxonKey' : taxonKey, 'typeStatus' : 'Lectotype', 'limit' : 20, 'offset' : iteration*20}\n",
    "    lectotype_request = requests.get(gbif_occurence, params=lectotype_search)\n",
    "    lectotypes = json.loads(lectotype_request.text)\n",
    "    endOfRecords = lectotypes['endOfRecords']\n",
    "    ldfe = pd.DataFrame(lectotypes['results'])\n",
    "    ldf = ldf.append(ldfe, ignore_index=True)\n",
    "    iteration += 1\n",
    "  if ldf.size > 0:\n",
    "    adjusted_columns = []\n",
    "    for item in columns:\n",
    "      if item in ldf.columns:\n",
    "        adjusted_columns.append(item)\n",
    "    ldf1 = ldf[adjusted_columns]\n",
    "    display(data_table.DataTable(ldf1, include_index=False, num_rows_per_page=20))\n",
    "    types_found['Lectotype'] = True\n",
    "  else:\n",
    "    print('No LECTOTYPES found')\n",
    "else:\n",
    "  print('Something went wrong')"
   ]
  },
  {
   "cell_type": "code",
   "execution_count": 0,
   "metadata": {
    "colab": {
     "base_uri": "https://localhost:8080/",
     "height": 109
    },
    "colab_type": "code",
    "executionInfo": {
     "elapsed": 9010,
     "status": "ok",
     "timestamp": 1591715023074,
     "user": {
      "displayName": "Maarten Trekels",
      "photoUrl": "https://lh3.googleusercontent.com/a-/AOh14Gg1lAOBAHfckOiCDYDPymyViRps7Tf4dAtzyvtEMw=s64",
      "userId": "15182443477784263859"
     },
     "user_tz": -120
    },
    "id": "cPr0whrVIpeW",
    "outputId": "7f181e09-76be-44f1-d5d2-507f5a8021ad"
   },
   "outputs": [
    {
     "data": {
      "application/vnd.google.colaboratory.module+javascript": "\n      import \"https://ssl.gstatic.com/colaboratory/data_table/a6224c040fa35dcf/data_table.js\";\n\n      window.createDataTable({\n        data: [[\"Solanum dillonii S.Knapp\",\n\"Solanum dillonii S.Knapp\",\n\"S. R. Stern\",\n\"2007-12-12T00:00:00\",\n\"NY\",\n\"NY\",\n\"The New York Botanical Garden\",\n\"PE\",\n\"119\"]],\n        columns: [[\"string\", \"scientificName\"], [\"string\", \"acceptedScientificName\"], [\"string\", \"recordedBy\"], [\"string\", \"eventDate\"], [\"string\", \"collectionCode\"], [\"string\", \"institutionCode\"], [\"string\", \"rightsHolder\"], [\"string\", \"countryCode\"], [\"string\", \"recordNumber\"]],\n        columnOptions: [],\n        rowsPerPage: 20,\n        helpUrl: \"https://colab.research.google.com/notebooks/data_table.ipynb\",\n        suppressOutputScrolling: true,\n        minimumWidth: undefined,\n      });\n    ",
      "text/html": [
       "<div>\n",
       "<style scoped>\n",
       "    .dataframe tbody tr th:only-of-type {\n",
       "        vertical-align: middle;\n",
       "    }\n",
       "\n",
       "    .dataframe tbody tr th {\n",
       "        vertical-align: top;\n",
       "    }\n",
       "\n",
       "    .dataframe thead th {\n",
       "        text-align: right;\n",
       "    }\n",
       "</style>\n",
       "<table border=\"1\" class=\"dataframe\">\n",
       "  <thead>\n",
       "    <tr style=\"text-align: right;\">\n",
       "      <th></th>\n",
       "      <th>scientificName</th>\n",
       "      <th>acceptedScientificName</th>\n",
       "      <th>recordedBy</th>\n",
       "      <th>eventDate</th>\n",
       "      <th>collectionCode</th>\n",
       "      <th>institutionCode</th>\n",
       "      <th>rightsHolder</th>\n",
       "      <th>countryCode</th>\n",
       "      <th>recordNumber</th>\n",
       "    </tr>\n",
       "  </thead>\n",
       "  <tbody>\n",
       "    <tr>\n",
       "      <th>0</th>\n",
       "      <td>Solanum dillonii S.Knapp</td>\n",
       "      <td>Solanum dillonii S.Knapp</td>\n",
       "      <td>S. R. Stern</td>\n",
       "      <td>2007-12-12T00:00:00</td>\n",
       "      <td>NY</td>\n",
       "      <td>NY</td>\n",
       "      <td>The New York Botanical Garden</td>\n",
       "      <td>PE</td>\n",
       "      <td>119</td>\n",
       "    </tr>\n",
       "  </tbody>\n",
       "</table>\n",
       "</div>"
      ],
      "text/plain": [
       "<google.colab.data_table.DataTable object>"
      ]
     },
     "metadata": {
      "tags": []
     },
     "output_type": "display_data"
    }
   ],
   "source": [
    "isotype_search = {'taxonKey' : taxonKey, 'typeStatus' : 'Isotype', 'limit' : 20}\n",
    "\n",
    "isotype_request = requests.get(gbif_occurence, params=isotype_search)\n",
    "if isotype_request.status_code == 200:\n",
    "  isotypes = json.loads(isotype_request.text)\n",
    "  endOfRecords = isotypes['endOfRecords']\n",
    "  idf = pd.DataFrame(isotypes['results'])\n",
    "  iteration = 1\n",
    "  while not endOfRecords:\n",
    "    isotype_search = {'taxonKey' : taxonKey, 'typeStatus' : 'Isotype', 'limit' : 20, 'offset' : iteration*20}\n",
    "    isotype_request = requests.get(gbif_occurence, params=isotype_search)\n",
    "    isotypes = json.loads(isotype_request.text)\n",
    "    endOfRecords = isotypes['endOfRecords']\n",
    "    idfe = pd.DataFrame(isotypes['results'])\n",
    "    idf = idf.append(idfe, ignore_index=True)\n",
    "    iteration += 1\n",
    "  if idf.size > 0:\n",
    "    adjusted_columns = []\n",
    "    for item in columns:\n",
    "      if item in idf.columns:\n",
    "        adjusted_columns.append(item)\n",
    "    idf1 = idf[adjusted_columns]\n",
    "    display(data_table.DataTable(idf1, include_index=False, num_rows_per_page=20))\n",
    "    types_found['Isotype'] = True\n",
    "  else:\n",
    "    print('No ISOTYPES found')\n",
    "else:\n",
    "  print('Something went wrong')"
   ]
  },
  {
   "cell_type": "code",
   "execution_count": 0,
   "metadata": {
    "colab": {
     "base_uri": "https://localhost:8080/",
     "height": 35
    },
    "colab_type": "code",
    "executionInfo": {
     "elapsed": 9005,
     "status": "ok",
     "timestamp": 1591715023076,
     "user": {
      "displayName": "Maarten Trekels",
      "photoUrl": "https://lh3.googleusercontent.com/a-/AOh14Gg1lAOBAHfckOiCDYDPymyViRps7Tf4dAtzyvtEMw=s64",
      "userId": "15182443477784263859"
     },
     "user_tz": -120
    },
    "id": "oiFGqzGKvVqX",
    "outputId": "d087d00b-6c40-468b-ef72-d86880124414"
   },
   "outputs": [
    {
     "name": "stdout",
     "output_type": "stream",
     "text": [
      "No SYNTYPE found\n"
     ]
    }
   ],
   "source": [
    "syntype_search = {'taxonKey' : taxonKey, 'typeStatus' : 'Syntype', 'limit' : 20}\n",
    "\n",
    "syntype_request = requests.get(gbif_occurence, params=syntype_search)\n",
    "if syntype_request.status_code == 200:\n",
    "  syntypes = json.loads(syntype_request.text)\n",
    "  endOfRecords = syntypes['endOfRecords']\n",
    "  sdf = pd.DataFrame(syntypes['results'])\n",
    "  while not endOfRecords:\n",
    "    syntype_search = {'taxonKey' : taxonKey, 'typeStatus' : 'Syntype', 'limit' : 20, 'offset' : iteration*20}\n",
    "    syntype_request = requests.get(gbif_occurence, params=syntype_search)\n",
    "    syntypes = json.loads(syntype_request.text)\n",
    "    endOfRecords = syntypes['endOfRecords']\n",
    "    sdfe = pd.DataFrame(syntypes['results'])\n",
    "    sdf = sdf.append(sdfe, ignore_index=True)\n",
    "    iteration += 1\n",
    "  adjusted_columns = []\n",
    "  for item in columns:\n",
    "    if item in sdf.columns:\n",
    "      adjusted_columns.append(item)\n",
    "  if sdf.size > 0:\n",
    "    sdf1 = sdf[adjusted_columns]\n",
    "    display(data_table.DataTable(sdf1, include_index=False, num_rows_per_page=20))\n",
    "    types_found['Syntype'] = True\n",
    "  else:\n",
    "    print('No SYNTYPE found')\n",
    "else:\n",
    "  print('Something went wrong')"
   ]
  },
  {
   "cell_type": "code",
   "execution_count": 0,
   "metadata": {
    "colab": {
     "base_uri": "https://localhost:8080/",
     "height": 237
    },
    "colab_type": "code",
    "executionInfo": {
     "elapsed": 9303,
     "status": "ok",
     "timestamp": 1591715023384,
     "user": {
      "displayName": "Maarten Trekels",
      "photoUrl": "https://lh3.googleusercontent.com/a-/AOh14Gg1lAOBAHfckOiCDYDPymyViRps7Tf4dAtzyvtEMw=s64",
      "userId": "15182443477784263859"
     },
     "user_tz": -120
    },
    "id": "Ft2Fo6D2E_nA",
    "outputId": "54262487-19ff-442f-cb01-0d400b7310c8"
   },
   "outputs": [
    {
     "data": {
      "application/vnd.google.colaboratory.module+javascript": "\n      import \"https://ssl.gstatic.com/colaboratory/data_table/a6224c040fa35dcf/data_table.js\";\n\n      window.createDataTable({\n        data: [[\"Solanum dillonii S.Knapp\",\n\"Solanum dillonii S.Knapp\",\n\"S. R. Stern\",\n\"2007-12-11T00:00:00\",\n\"NY\",\n\"NY\",\n\"The New York Botanical Garden\",\n\"PE\",\n\"109\"],\n [\"Solanum dillonii S.Knapp\",\n\"Solanum dillonii S.Knapp\",\n\"J. Santisteban C.\",\n\"1987-05-31T00:00:00\",\n\"NY\",\n\"NY\",\n\"The New York Botanical Garden\",\n\"PE\",\n\"125\"],\n [\"Solanum dillonii S.Knapp\",\n\"Solanum dillonii S.Knapp\",\n\"M. O. Dillon\",\n\"1986-03-16T00:00:00\",\n\"NY\",\n\"NY\",\n\"The New York Botanical Garden\",\n\"PE\",\n\"4379\"],\n [\"Solanum dillonii S.Knapp\",\n\"Solanum dillonii S.Knapp\",\n\"S. D. Knapp\",\n\"1984-02-06T00:00:00\",\n\"NY\",\n\"NY\",\n\"The New York Botanical Garden\",\n\"EC\",\n\"6258\"]],\n        columns: [[\"string\", \"scientificName\"], [\"string\", \"acceptedScientificName\"], [\"string\", \"recordedBy\"], [\"string\", \"eventDate\"], [\"string\", \"collectionCode\"], [\"string\", \"institutionCode\"], [\"string\", \"rightsHolder\"], [\"string\", \"countryCode\"], [\"string\", \"recordNumber\"]],\n        columnOptions: [],\n        rowsPerPage: 20,\n        helpUrl: \"https://colab.research.google.com/notebooks/data_table.ipynb\",\n        suppressOutputScrolling: true,\n        minimumWidth: undefined,\n      });\n    ",
      "text/html": [
       "<div>\n",
       "<style scoped>\n",
       "    .dataframe tbody tr th:only-of-type {\n",
       "        vertical-align: middle;\n",
       "    }\n",
       "\n",
       "    .dataframe tbody tr th {\n",
       "        vertical-align: top;\n",
       "    }\n",
       "\n",
       "    .dataframe thead th {\n",
       "        text-align: right;\n",
       "    }\n",
       "</style>\n",
       "<table border=\"1\" class=\"dataframe\">\n",
       "  <thead>\n",
       "    <tr style=\"text-align: right;\">\n",
       "      <th></th>\n",
       "      <th>scientificName</th>\n",
       "      <th>acceptedScientificName</th>\n",
       "      <th>recordedBy</th>\n",
       "      <th>eventDate</th>\n",
       "      <th>collectionCode</th>\n",
       "      <th>institutionCode</th>\n",
       "      <th>rightsHolder</th>\n",
       "      <th>countryCode</th>\n",
       "      <th>recordNumber</th>\n",
       "    </tr>\n",
       "  </thead>\n",
       "  <tbody>\n",
       "    <tr>\n",
       "      <th>0</th>\n",
       "      <td>Solanum dillonii S.Knapp</td>\n",
       "      <td>Solanum dillonii S.Knapp</td>\n",
       "      <td>S. R. Stern</td>\n",
       "      <td>2007-12-11T00:00:00</td>\n",
       "      <td>NY</td>\n",
       "      <td>NY</td>\n",
       "      <td>The New York Botanical Garden</td>\n",
       "      <td>PE</td>\n",
       "      <td>109</td>\n",
       "    </tr>\n",
       "    <tr>\n",
       "      <th>1</th>\n",
       "      <td>Solanum dillonii S.Knapp</td>\n",
       "      <td>Solanum dillonii S.Knapp</td>\n",
       "      <td>J. Santisteban C.</td>\n",
       "      <td>1987-05-31T00:00:00</td>\n",
       "      <td>NY</td>\n",
       "      <td>NY</td>\n",
       "      <td>The New York Botanical Garden</td>\n",
       "      <td>PE</td>\n",
       "      <td>125</td>\n",
       "    </tr>\n",
       "    <tr>\n",
       "      <th>2</th>\n",
       "      <td>Solanum dillonii S.Knapp</td>\n",
       "      <td>Solanum dillonii S.Knapp</td>\n",
       "      <td>M. O. Dillon</td>\n",
       "      <td>1986-03-16T00:00:00</td>\n",
       "      <td>NY</td>\n",
       "      <td>NY</td>\n",
       "      <td>The New York Botanical Garden</td>\n",
       "      <td>PE</td>\n",
       "      <td>4379</td>\n",
       "    </tr>\n",
       "    <tr>\n",
       "      <th>3</th>\n",
       "      <td>Solanum dillonii S.Knapp</td>\n",
       "      <td>Solanum dillonii S.Knapp</td>\n",
       "      <td>S. D. Knapp</td>\n",
       "      <td>1984-02-06T00:00:00</td>\n",
       "      <td>NY</td>\n",
       "      <td>NY</td>\n",
       "      <td>The New York Botanical Garden</td>\n",
       "      <td>EC</td>\n",
       "      <td>6258</td>\n",
       "    </tr>\n",
       "  </tbody>\n",
       "</table>\n",
       "</div>"
      ],
      "text/plain": [
       "<google.colab.data_table.DataTable object>"
      ]
     },
     "metadata": {
      "tags": []
     },
     "output_type": "display_data"
    }
   ],
   "source": [
    "paratype_search = {'taxonKey' : taxonKey, 'typeStatus' : 'Paratype', 'limit' : 20}\n",
    "\n",
    "paratype_request = requests.get(gbif_occurence, params=paratype_search)\n",
    "if paratype_request.status_code == 200:\n",
    "  paratypes = json.loads(paratype_request.text)\n",
    "  endOfRecords = paratypes['endOfRecords']\n",
    "  pdf = pd.DataFrame(paratypes['results'])\n",
    "  while not endOfRecords:\n",
    "    paratype_search = {'taxonKey' : taxonKey, 'typeStatus' : 'Paratype', 'limit' : 20, 'offset' : iteration*20}\n",
    "    paratype_request = requests.get(gbif_occurence, params=paratype_search)\n",
    "    paratypes = json.loads(paratype_request.text)\n",
    "    endOfRecords = paratypes['endOfRecords']\n",
    "    pdfe = pd.DataFrame(paratypes['results'])\n",
    "    pdf = pdf.append(sdfe, ignore_index=True)\n",
    "    iteration += 1\n",
    "  adjusted_columns = []\n",
    "  for item in columns:\n",
    "    if item in pdf.columns:\n",
    "      adjusted_columns.append(item)\n",
    "  if pdf.size > 0:\n",
    "    pdf1 = pdf[adjusted_columns]\n",
    "    display(data_table.DataTable(pdf1, include_index=False, num_rows_per_page=20))\n",
    "    types_found['Paratype'] = True\n",
    "  else:\n",
    "    print('No PARATYPE found')\n",
    "else:\n",
    "  print('Something went wrong')"
   ]
  },
  {
   "cell_type": "code",
   "execution_count": 0,
   "metadata": {
    "colab": {
     "base_uri": "https://localhost:8080/",
     "height": 35
    },
    "colab_type": "code",
    "executionInfo": {
     "elapsed": 9610,
     "status": "ok",
     "timestamp": 1591715023703,
     "user": {
      "displayName": "Maarten Trekels",
      "photoUrl": "https://lh3.googleusercontent.com/a-/AOh14Gg1lAOBAHfckOiCDYDPymyViRps7Tf4dAtzyvtEMw=s64",
      "userId": "15182443477784263859"
     },
     "user_tz": -120
    },
    "id": "tgMri7zSL6Wf",
    "outputId": "304fcd95-2c64-4283-f85d-65651ca297d9"
   },
   "outputs": [
    {
     "name": "stdout",
     "output_type": "stream",
     "text": [
      "No TYPE found\n"
     ]
    }
   ],
   "source": [
    "type_search = {'taxonKey' : taxonKey, 'typeStatus' : 'Type', 'limit' : 20}\n",
    "\n",
    "type_request = requests.get(gbif_occurence, params=type_search)\n",
    "if type_request.status_code == 200:\n",
    "  types = json.loads(type_request.text)\n",
    "  endOfRecords = types['endOfRecords']\n",
    "  ndf = pd.DataFrame(types['results'])\n",
    "  while not endOfRecords:\n",
    "    type_search = {'taxonKey' : taxonKey, 'typeStatus' : 'Type', 'limit' : 20, 'offset' : iteration*20}\n",
    "    type_request = requests.get(gbif_occurence, params=type_search)\n",
    "    types = json.loads(type_request.text)\n",
    "    endOfRecords = types['endOfRecords']\n",
    "    ndfe = pd.DataFrame(types['results'])\n",
    "    ndf = ndf.append(ndfe, ignore_index=True)\n",
    "    iteration += 1\n",
    "  adjusted_columns = []\n",
    "  for item in columns:\n",
    "    if item in ndf.columns:\n",
    "      adjusted_columns.append(item)\n",
    "  if ndf.size > 0:\n",
    "    ndf1 = ndf[adjusted_columns]\n",
    "    display(data_table.DataTable(ndf1, include_index=False, num_rows_per_page=20))\n",
    "  else:\n",
    "    print('No TYPE found')\n",
    "else:\n",
    "  print('Something went wrong')"
   ]
  },
  {
   "cell_type": "markdown",
   "metadata": {
    "colab_type": "text",
    "id": "2cMRZDTBOG0-"
   },
   "source": [
    "## Search for similar specimen"
   ]
  },
  {
   "cell_type": "code",
   "execution_count": 0,
   "metadata": {
    "colab": {
     "base_uri": "https://localhost:8080/",
     "height": 835
    },
    "colab_type": "code",
    "executionInfo": {
     "elapsed": 9926,
     "status": "ok",
     "timestamp": 1591715024028,
     "user": {
      "displayName": "Maarten Trekels",
      "photoUrl": "https://lh3.googleusercontent.com/a-/AOh14Gg1lAOBAHfckOiCDYDPymyViRps7Tf4dAtzyvtEMw=s64",
      "userId": "15182443477784263859"
     },
     "user_tz": -120
    },
    "id": "eaWa_sK3oX5n",
    "outputId": "7aae25d2-8c0c-4430-bee3-c5bf56488675"
   },
   "outputs": [
    {
     "data": {
      "application/vnd.google.colaboratory.module+javascript": "\n      import \"https://ssl.gstatic.com/colaboratory/data_table/a6224c040fa35dcf/data_table.js\";\n\n      window.createDataTable({\n        data: [[\"Solanum saponaceum Dunal\",\n\"Solanum saponaceum Dunal\",\n\"Stephen R. Stern, E J. Tepe, S Leiva, M Zapata\",\n\"2007-12-13T00:00:00\",\n\"BOT\",\n\"NHMUK\",\n\"PE\",\n\"128\"],\n [\"Solanum zahlbruckneri Bitter\",\n\"Solanum aloysiifolium Dunal\",\n\"Stephen R. Stern, E J. Tepe, S Leiva, M Zapata\",\n\"2007-12-12T00:00:00\",\n\"BOT\",\n\"NHMUK\",\n\"PE\",\n\"110\"],\n [\"Solanum lepidotum Humb. & Bonpl. ex Dunal\",\n\"Solanum lepidotum Humb. & Bonpl. ex Dunal\",\n\"Stephen R. Stern, E J. Tepe, S Leiva, M Zapata\",\n\"2007-12-16T00:00:00\",\n\"BOT\",\n\"NHMUK\",\n\"PE\",\n\"167\"],\n [\"Solanum oblongifolium Humb. & Bonpl. ex Dunal\",\n\"Solanum oblongifolium Humb. & Bonpl. ex Dunal\",\n\"Stephen R. Stern, E J. Tepe, S Leiva, M Zapata\",\n\"2007-12-12T00:00:00\",\n\"BOT\",\n\"NHMUK\",\n\"PE\",\n\"115\"],\n [\"Solanum saponaceum Dunal\",\n\"Solanum saponaceum Dunal\",\n\"Stephen R. Stern, E J. Tepe, S Leiva, M Zapata\",\n\"2007-12-13T00:00:00\",\n\"BOT\",\n\"NHMUK\",\n\"PE\",\n\"126\"],\n [\"Solanum acerifolium Humb. & Bonpl. ex Dunal\",\n\"Solanum acerifolium Humb. & Bonpl. ex Dunal\",\n\"Stephen R. Stern, E J. Tepe, S Leiva, M Zapata\",\n\"2007-12-17T00:00:00\",\n\"BOT\",\n\"NHMUK\",\n\"PE\",\n\"179\"],\n [\"Solanum dillonii S.Knapp\",\n\"Solanum dillonii S.Knapp\",\n\"Stephen R. Stern, E J. Tepe, S Leiva, M Zapata\",\n\"2007-12-11T00:00:00\",\n\"BOT\",\n\"NHMUK\",\n\"PE\",\n\"109\"],\n [\"Solanum albidum Dunal\",\n\"Solanum albidum Dunal\",\n\"Stephen R. Stern, E J. Tepe, S Leiva, M Zapata\",\n\"2007-12-14T00:00:00\",\n\"BOT\",\n\"NHMUK\",\n\"PE\",\n\"143\"],\n [\"Solanum rubicaule S.R.Stern\",\n\"Solanum rubicaule S.R.Stern\",\n\"Stern Tepe Leiva Zapata\",\n\"2007-12-17T00:00:00\",\n\"BOT\",\n\"NHMUK\",\n\"PE\",\n\"181\"],\n [\"Solanum albidum Dunal\",\n\"Solanum albidum Dunal\",\n\"Stephen R. Stern, E J. Tepe, S Leiva, M Zapata\",\n\"2007-12-14T00:00:00\",\n\"BOT\",\n\"NHMUK\",\n\"PE\",\n\"143\"],\n [\"Solanum riparium Pers.\",\n\"Solanum riparium Pers.\",\n\"Stern Tepe Leiva Zapata\",\n\"2007-12-12T00:00:00\",\n\"BOT\",\n\"NHMUK\",\n\"PE\",\n\"119\"],\n [\"Solanum riparium Pers.\",\n\"Solanum riparium Pers.\",\n\"Stephen R. Stern, E J. Tepe, S Leiva, M Zapata\",\n\"2007-12-17T00:00:00\",\n\"BOT\",\n\"NHMUK\",\n\"PE\",\n\"175\"],\n [\"Solanum sessile Ruiz & Pav.\",\n\"Solanum sessile Ruiz & Pav.\",\n\"Stephen R. Stern, E J. Tepe, S Leiva, M Zapata\",\n\"2007-12-15T00:00:00\",\n\"BOT\",\n\"NHMUK\",\n\"PE\",\n\"163\"],\n [\"Solanum maturecalvans Bitter\",\n\"Solanum maturecalvans Bitter\",\n\"Stephen R. Stern, E J. Tepe, S Leiva, M Zapata\",\n\"2007-12-12T00:00:00\",\n\"BOT\",\n\"NHMUK\",\n\"PE\",\n\"122\"],\n [\"Solanum aphyodendron S.Knapp\",\n\"Solanum aphyodendron S.Knapp\",\n\"Stephen R. Stern, E J. Tepe, S Leiva, M Zapata\",\n\"2007-12-16T00:00:00\",\n\"BOT\",\n\"NHMUK\",\n\"PE\",\n\"168\"],\n [\"Solanum zahlbruckneri Bitter\",\n\"Solanum aloysiifolium Dunal\",\n\"Stephen R. Stern, E J. Tepe\",\n\"2007-12-03T00:00:00\",\n\"BOT\",\n\"NHMUK\",\n\"PE\",\n\"104\"],\n [\"Solanum achorum S.R.Stern\",\n\"Solanum achorum S.R.Stern\",\n\"Stern Tepe Leiva Zapata\",\n\"2007-12-13T00:00:00\",\n\"BOT\",\n\"NHMUK\",\n\"PE\",\n\"129\"],\n [\"Solanum montanum L.\",\n\"Solanum montanum L.\",\n\"Stephen R. Stern, E J. Tepe, S Leiva, M Zapata\",\n\"2007-12-08T00:00:00\",\n\"BOT\",\n\"NHMUK\",\n\"PE\",\n\"107\"],\n [\"Solanum muricatum Ait.\",\n\"Solanum muricatum Ait.\",\n\"Stephen R. Stern, E J. Tepe, S Leiva, M Zapata\",\n\"2007-12-13T00:00:00\",\n\"BOT\",\n\"NHMUK\",\n\"PE\",\n\"130\"],\n [\"Solanum probolospermum Bitter\",\n\"Solanum probolospermum Bitter\",\n\"Stephen R. Stern, E J. Tepe, S Leiva, M Zapata\",\n\"2007-12-12T00:00:00\",\n\"BOT\",\n\"NHMUK\",\n\"PE\",\n\"117\"]],\n        columns: [[\"string\", \"scientificName\"], [\"string\", \"acceptedScientificName\"], [\"string\", \"recordedBy\"], [\"string\", \"eventDate\"], [\"string\", \"collectionCode\"], [\"string\", \"institutionCode\"], [\"string\", \"countryCode\"], [\"string\", \"recordNumber\"]],\n        columnOptions: [],\n        rowsPerPage: 20,\n        helpUrl: \"https://colab.research.google.com/notebooks/data_table.ipynb\",\n        suppressOutputScrolling: true,\n        minimumWidth: undefined,\n      });\n    ",
      "text/html": [
       "<div>\n",
       "<style scoped>\n",
       "    .dataframe tbody tr th:only-of-type {\n",
       "        vertical-align: middle;\n",
       "    }\n",
       "\n",
       "    .dataframe tbody tr th {\n",
       "        vertical-align: top;\n",
       "    }\n",
       "\n",
       "    .dataframe thead th {\n",
       "        text-align: right;\n",
       "    }\n",
       "</style>\n",
       "<table border=\"1\" class=\"dataframe\">\n",
       "  <thead>\n",
       "    <tr style=\"text-align: right;\">\n",
       "      <th></th>\n",
       "      <th>scientificName</th>\n",
       "      <th>acceptedScientificName</th>\n",
       "      <th>recordedBy</th>\n",
       "      <th>eventDate</th>\n",
       "      <th>collectionCode</th>\n",
       "      <th>institutionCode</th>\n",
       "      <th>countryCode</th>\n",
       "      <th>recordNumber</th>\n",
       "    </tr>\n",
       "  </thead>\n",
       "  <tbody>\n",
       "    <tr>\n",
       "      <th>0</th>\n",
       "      <td>Solanum saponaceum Dunal</td>\n",
       "      <td>Solanum saponaceum Dunal</td>\n",
       "      <td>Stephen R. Stern, E J. Tepe, S Leiva, M Zapata</td>\n",
       "      <td>2007-12-13T00:00:00</td>\n",
       "      <td>BOT</td>\n",
       "      <td>NHMUK</td>\n",
       "      <td>PE</td>\n",
       "      <td>128</td>\n",
       "    </tr>\n",
       "    <tr>\n",
       "      <th>1</th>\n",
       "      <td>Solanum zahlbruckneri Bitter</td>\n",
       "      <td>Solanum aloysiifolium Dunal</td>\n",
       "      <td>Stephen R. Stern, E J. Tepe, S Leiva, M Zapata</td>\n",
       "      <td>2007-12-12T00:00:00</td>\n",
       "      <td>BOT</td>\n",
       "      <td>NHMUK</td>\n",
       "      <td>PE</td>\n",
       "      <td>110</td>\n",
       "    </tr>\n",
       "    <tr>\n",
       "      <th>2</th>\n",
       "      <td>Solanum lepidotum Humb. &amp; Bonpl. ex Dunal</td>\n",
       "      <td>Solanum lepidotum Humb. &amp; Bonpl. ex Dunal</td>\n",
       "      <td>Stephen R. Stern, E J. Tepe, S Leiva, M Zapata</td>\n",
       "      <td>2007-12-16T00:00:00</td>\n",
       "      <td>BOT</td>\n",
       "      <td>NHMUK</td>\n",
       "      <td>PE</td>\n",
       "      <td>167</td>\n",
       "    </tr>\n",
       "    <tr>\n",
       "      <th>3</th>\n",
       "      <td>Solanum oblongifolium Humb. &amp; Bonpl. ex Dunal</td>\n",
       "      <td>Solanum oblongifolium Humb. &amp; Bonpl. ex Dunal</td>\n",
       "      <td>Stephen R. Stern, E J. Tepe, S Leiva, M Zapata</td>\n",
       "      <td>2007-12-12T00:00:00</td>\n",
       "      <td>BOT</td>\n",
       "      <td>NHMUK</td>\n",
       "      <td>PE</td>\n",
       "      <td>115</td>\n",
       "    </tr>\n",
       "    <tr>\n",
       "      <th>4</th>\n",
       "      <td>Solanum saponaceum Dunal</td>\n",
       "      <td>Solanum saponaceum Dunal</td>\n",
       "      <td>Stephen R. Stern, E J. Tepe, S Leiva, M Zapata</td>\n",
       "      <td>2007-12-13T00:00:00</td>\n",
       "      <td>BOT</td>\n",
       "      <td>NHMUK</td>\n",
       "      <td>PE</td>\n",
       "      <td>126</td>\n",
       "    </tr>\n",
       "    <tr>\n",
       "      <th>5</th>\n",
       "      <td>Solanum acerifolium Humb. &amp; Bonpl. ex Dunal</td>\n",
       "      <td>Solanum acerifolium Humb. &amp; Bonpl. ex Dunal</td>\n",
       "      <td>Stephen R. Stern, E J. Tepe, S Leiva, M Zapata</td>\n",
       "      <td>2007-12-17T00:00:00</td>\n",
       "      <td>BOT</td>\n",
       "      <td>NHMUK</td>\n",
       "      <td>PE</td>\n",
       "      <td>179</td>\n",
       "    </tr>\n",
       "    <tr>\n",
       "      <th>6</th>\n",
       "      <td>Solanum dillonii S.Knapp</td>\n",
       "      <td>Solanum dillonii S.Knapp</td>\n",
       "      <td>Stephen R. Stern, E J. Tepe, S Leiva, M Zapata</td>\n",
       "      <td>2007-12-11T00:00:00</td>\n",
       "      <td>BOT</td>\n",
       "      <td>NHMUK</td>\n",
       "      <td>PE</td>\n",
       "      <td>109</td>\n",
       "    </tr>\n",
       "    <tr>\n",
       "      <th>7</th>\n",
       "      <td>Solanum albidum Dunal</td>\n",
       "      <td>Solanum albidum Dunal</td>\n",
       "      <td>Stephen R. Stern, E J. Tepe, S Leiva, M Zapata</td>\n",
       "      <td>2007-12-14T00:00:00</td>\n",
       "      <td>BOT</td>\n",
       "      <td>NHMUK</td>\n",
       "      <td>PE</td>\n",
       "      <td>143</td>\n",
       "    </tr>\n",
       "    <tr>\n",
       "      <th>8</th>\n",
       "      <td>Solanum rubicaule S.R.Stern</td>\n",
       "      <td>Solanum rubicaule S.R.Stern</td>\n",
       "      <td>Stern Tepe Leiva Zapata</td>\n",
       "      <td>2007-12-17T00:00:00</td>\n",
       "      <td>BOT</td>\n",
       "      <td>NHMUK</td>\n",
       "      <td>PE</td>\n",
       "      <td>181</td>\n",
       "    </tr>\n",
       "    <tr>\n",
       "      <th>9</th>\n",
       "      <td>Solanum albidum Dunal</td>\n",
       "      <td>Solanum albidum Dunal</td>\n",
       "      <td>Stephen R. Stern, E J. Tepe, S Leiva, M Zapata</td>\n",
       "      <td>2007-12-14T00:00:00</td>\n",
       "      <td>BOT</td>\n",
       "      <td>NHMUK</td>\n",
       "      <td>PE</td>\n",
       "      <td>143</td>\n",
       "    </tr>\n",
       "    <tr>\n",
       "      <th>10</th>\n",
       "      <td>Solanum riparium Pers.</td>\n",
       "      <td>Solanum riparium Pers.</td>\n",
       "      <td>Stern Tepe Leiva Zapata</td>\n",
       "      <td>2007-12-12T00:00:00</td>\n",
       "      <td>BOT</td>\n",
       "      <td>NHMUK</td>\n",
       "      <td>PE</td>\n",
       "      <td>119</td>\n",
       "    </tr>\n",
       "    <tr>\n",
       "      <th>11</th>\n",
       "      <td>Solanum riparium Pers.</td>\n",
       "      <td>Solanum riparium Pers.</td>\n",
       "      <td>Stephen R. Stern, E J. Tepe, S Leiva, M Zapata</td>\n",
       "      <td>2007-12-17T00:00:00</td>\n",
       "      <td>BOT</td>\n",
       "      <td>NHMUK</td>\n",
       "      <td>PE</td>\n",
       "      <td>175</td>\n",
       "    </tr>\n",
       "    <tr>\n",
       "      <th>12</th>\n",
       "      <td>Solanum sessile Ruiz &amp; Pav.</td>\n",
       "      <td>Solanum sessile Ruiz &amp; Pav.</td>\n",
       "      <td>Stephen R. Stern, E J. Tepe, S Leiva, M Zapata</td>\n",
       "      <td>2007-12-15T00:00:00</td>\n",
       "      <td>BOT</td>\n",
       "      <td>NHMUK</td>\n",
       "      <td>PE</td>\n",
       "      <td>163</td>\n",
       "    </tr>\n",
       "    <tr>\n",
       "      <th>13</th>\n",
       "      <td>Solanum maturecalvans Bitter</td>\n",
       "      <td>Solanum maturecalvans Bitter</td>\n",
       "      <td>Stephen R. Stern, E J. Tepe, S Leiva, M Zapata</td>\n",
       "      <td>2007-12-12T00:00:00</td>\n",
       "      <td>BOT</td>\n",
       "      <td>NHMUK</td>\n",
       "      <td>PE</td>\n",
       "      <td>122</td>\n",
       "    </tr>\n",
       "    <tr>\n",
       "      <th>14</th>\n",
       "      <td>Solanum aphyodendron S.Knapp</td>\n",
       "      <td>Solanum aphyodendron S.Knapp</td>\n",
       "      <td>Stephen R. Stern, E J. Tepe, S Leiva, M Zapata</td>\n",
       "      <td>2007-12-16T00:00:00</td>\n",
       "      <td>BOT</td>\n",
       "      <td>NHMUK</td>\n",
       "      <td>PE</td>\n",
       "      <td>168</td>\n",
       "    </tr>\n",
       "    <tr>\n",
       "      <th>15</th>\n",
       "      <td>Solanum zahlbruckneri Bitter</td>\n",
       "      <td>Solanum aloysiifolium Dunal</td>\n",
       "      <td>Stephen R. Stern, E J. Tepe</td>\n",
       "      <td>2007-12-03T00:00:00</td>\n",
       "      <td>BOT</td>\n",
       "      <td>NHMUK</td>\n",
       "      <td>PE</td>\n",
       "      <td>104</td>\n",
       "    </tr>\n",
       "    <tr>\n",
       "      <th>16</th>\n",
       "      <td>Solanum achorum S.R.Stern</td>\n",
       "      <td>Solanum achorum S.R.Stern</td>\n",
       "      <td>Stern Tepe Leiva Zapata</td>\n",
       "      <td>2007-12-13T00:00:00</td>\n",
       "      <td>BOT</td>\n",
       "      <td>NHMUK</td>\n",
       "      <td>PE</td>\n",
       "      <td>129</td>\n",
       "    </tr>\n",
       "    <tr>\n",
       "      <th>17</th>\n",
       "      <td>Solanum montanum L.</td>\n",
       "      <td>Solanum montanum L.</td>\n",
       "      <td>Stephen R. Stern, E J. Tepe, S Leiva, M Zapata</td>\n",
       "      <td>2007-12-08T00:00:00</td>\n",
       "      <td>BOT</td>\n",
       "      <td>NHMUK</td>\n",
       "      <td>PE</td>\n",
       "      <td>107</td>\n",
       "    </tr>\n",
       "    <tr>\n",
       "      <th>18</th>\n",
       "      <td>Solanum muricatum Ait.</td>\n",
       "      <td>Solanum muricatum Ait.</td>\n",
       "      <td>Stephen R. Stern, E J. Tepe, S Leiva, M Zapata</td>\n",
       "      <td>2007-12-13T00:00:00</td>\n",
       "      <td>BOT</td>\n",
       "      <td>NHMUK</td>\n",
       "      <td>PE</td>\n",
       "      <td>130</td>\n",
       "    </tr>\n",
       "    <tr>\n",
       "      <th>19</th>\n",
       "      <td>Solanum probolospermum Bitter</td>\n",
       "      <td>Solanum probolospermum Bitter</td>\n",
       "      <td>Stephen R. Stern, E J. Tepe, S Leiva, M Zapata</td>\n",
       "      <td>2007-12-12T00:00:00</td>\n",
       "      <td>BOT</td>\n",
       "      <td>NHMUK</td>\n",
       "      <td>PE</td>\n",
       "      <td>117</td>\n",
       "    </tr>\n",
       "  </tbody>\n",
       "</table>\n",
       "</div>"
      ],
      "text/plain": [
       "<google.colab.data_table.DataTable object>"
      ]
     },
     "metadata": {
      "tags": []
     },
     "output_type": "display_data"
    }
   ],
   "source": [
    "# take the holotype, if not take neotype or lectotype\n",
    "if types_found['Holotype'] == True:\n",
    "  try:\n",
    "    year = df.year[0] # for the moment I take the first record, but this needs to be changed\n",
    "  except AttributeError:\n",
    "    year = '2008' #@param {type:\"string\"}\n",
    "  try:\n",
    "    month = df.month[0]\n",
    "  except AttributeError:\n",
    "    month = '03' #@param {type:\"string\"}\n",
    "  countryCode = df.countryCode[0]\n",
    "elif types_found['Neotype'] == True:\n",
    "  year = ndf.year[0]\n",
    "  month = ndf.month[0]\n",
    "  countryCode = ndf.countryCode[0]\n",
    "elif types_found['Lectotype'] == True:\n",
    "  year = ldf.year[0]\n",
    "  month = ldf.month[0]\n",
    "  countryCode = ldf.countryCode[0]\n",
    "elif types_found['Isotype'] == True:\n",
    "  year = idf.year[0]\n",
    "  month = idf.month[0]\n",
    "  countryCode = idf.countryCode[0]\n",
    "else:\n",
    "  print('Other cases need to be implemented later, including taxonomic rules')\n",
    "  assert(False)\n",
    "\n",
    "# search parameters\n",
    "\n",
    "params = {'genusKey' : genusKey, 'year' : year, 'month': month, 'country' : countryCode}\n",
    "\n",
    "\n",
    "specimen_request = requests.get(gbif_occurence, params=params)\n",
    "if specimen_request.status_code == 200:\n",
    "  specimens = json.loads(specimen_request.text)\n",
    "  specimen_df = pd.DataFrame(specimens['results'])\n",
    "  adjusted_columns = []\n",
    "  for item in columns:\n",
    "    if item in specimen_df.columns:\n",
    "      adjusted_columns.append(item)\n",
    "  specimen_df1 = specimen_df[adjusted_columns]\n",
    "  display(data_table.DataTable(specimen_df1, include_index=False, num_rows_per_page=20))"
   ]
  }
 ],
 "metadata": {
  "colab": {
   "authorship_tag": "ABX9TyNkmmdNKYCBXI2oi85J+8lZ",
   "collapsed_sections": [],
   "name": "Types_GBIFonly.ipynb",
   "provenance": []
  },
  "kernelspec": {
   "display_name": "Python 3",
   "language": "python",
   "name": "python3"
  },
  "language_info": {
   "codemirror_mode": {
    "name": "ipython",
    "version": 3
   },
   "file_extension": ".py",
   "mimetype": "text/x-python",
   "name": "python",
   "nbconvert_exporter": "python",
   "pygments_lexer": "ipython3",
   "version": "3.6.9"
  }
 },
 "nbformat": 4,
 "nbformat_minor": 1
}
